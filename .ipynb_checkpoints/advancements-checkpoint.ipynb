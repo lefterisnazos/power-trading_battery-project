{
 "cells": [
  {
   "cell_type": "code",
   "execution_count": null,
   "metadata": {
    "collapsed": true
   },
   "outputs": [],
   "source": []
  },
  {
   "cell_type": "code",
   "execution_count": 1,
   "metadata": {},
   "outputs": [],
   "source": [
    "\n",
    "import numpy as np\n",
    "import pandas as pd\n",
    "import matplotlib.pyplot as plt\n",
    "from enscohelper import date_time\n",
    "from enscohelper.database import DBConnector\n",
    "from enscohelper.datafeed import ActualData, ForecastData\n",
    "from enscohelper.date_time import convert_datetime_to_datetime_id\n",
    "import requests\n",
    "import datetime as dt\n",
    "import time\n",
    "import pytz\n",
    "import json\n",
    "from xbid_data_getter import xbid_data\n",
    "import cvxpy as cp\n",
    "from multiprocessing import Process\n",
    "from numbers import Real\n",
    "from openpyxl import load_workbook, Workbook\n",
    "\n",
    "import time\n",
    "import os"
   ]
  },
  {
   "cell_type": "code",
   "execution_count": 2,
   "metadata": {},
   "outputs": [],
   "source": [
    "class Countdown:\n",
    "\n",
    "    def __init__(self, start):\n",
    "        self.start= start\n",
    "\n",
    "    def __get__(self, instance, owner_class):\n",
    "        if instance is None:\n",
    "            return self\n",
    "        else:\n",
    "            self.start -= 1\n",
    "            return self.start\n",
    "\n",
    "\n",
    "class Rocket:\n",
    "    count = Countdown(10)\n"
   ]
  },
  {
   "cell_type": "code",
   "execution_count": 3,
   "metadata": {},
   "outputs": [],
   "source": [
    "class IntegerValue:\n",
    "    def __set__(self, instance, value):\n",
    "        print(f'__set__ called, instance={instance}, value={value}')\n",
    "\n",
    "    def __get__(self, instance, owner_class):\n",
    "        if instance is None:\n",
    "            print('__get__ called from class')\n",
    "        else:\n",
    "            print(f'__get__ called, instance={instance}, owner_class={owner_class}')\n"
   ]
  },
  {
   "cell_type": "code",
   "execution_count": 3,
   "metadata": {},
   "outputs": [],
   "source": []
  }
 ],
 "metadata": {
  "kernelspec": {
   "display_name": "Python 3 (ipykernel)",
   "language": "python",
   "name": "python3"
  },
  "language_info": {
   "codemirror_mode": {
    "name": "ipython",
    "version": 3
   },
   "file_extension": ".py",
   "mimetype": "text/x-python",
   "name": "python",
   "nbconvert_exporter": "python",
   "pygments_lexer": "ipython3",
   "version": "3.9.10"
  }
 },
 "nbformat": 4,
 "nbformat_minor": 1
}
